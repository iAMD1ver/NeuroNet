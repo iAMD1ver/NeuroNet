{
 "cells": [
  {
   "cell_type": "code",
   "execution_count": 39,
   "metadata": {},
   "outputs": [],
   "source": [
    "import numpy as np\n",
    "from keras.datasets import mnist\n",
    "\n",
    "from keras.models import Sequential\n",
    "from keras.layers import Dense\n",
    "from keras.utils import to_categorical\n",
    "\n",
    "import matplotlib.pyplot as plt"
   ]
  },
  {
   "cell_type": "markdown",
   "metadata": {},
   "source": [
    "### Загрузка данных"
   ]
  },
  {
   "cell_type": "code",
   "execution_count": 2,
   "metadata": {},
   "outputs": [],
   "source": [
    "images = mnist.load_data()"
   ]
  },
  {
   "cell_type": "code",
   "execution_count": 3,
   "metadata": {},
   "outputs": [],
   "source": [
    "train_images = images[0][0]\n",
    "train_labels = images[0][1]\n",
    "test_images = images[1][0]\n",
    "test_labels = images[1][1]"
   ]
  },
  {
   "cell_type": "code",
   "execution_count": 4,
   "metadata": {},
   "outputs": [
    {
     "data": {
      "text/plain": [
       "(60000, 28, 28)"
      ]
     },
     "execution_count": 4,
     "metadata": {},
     "output_type": "execute_result"
    }
   ],
   "source": [
    "train_images.shape"
   ]
  },
  {
   "cell_type": "code",
   "execution_count": 5,
   "metadata": {},
   "outputs": [
    {
     "name": "stdout",
     "output_type": "stream",
     "text": [
      "(60000, 784)\n",
      "(10000, 784)\n"
     ]
    }
   ],
   "source": [
    "# Normalize the images.\n",
    "train_images = (train_images / 255) - 0.5\n",
    "test_images = (test_images / 255) - 0.5\n",
    "\n",
    "# Flatten the images.\n",
    "train_images = train_images.reshape((-1, 784))\n",
    "test_images = test_images.reshape((-1, 784))\n",
    "\n",
    "print(train_images.shape) \n",
    "print(test_images.shape)  "
   ]
  },
  {
   "cell_type": "markdown",
   "metadata": {},
   "source": [
    "### Построение модели - исходные настройки"
   ]
  },
  {
   "cell_type": "code",
   "execution_count": 6,
   "metadata": {},
   "outputs": [],
   "source": [
    "model = Sequential([\n",
    "  Dense(64, activation='relu', input_shape=(784,)),\n",
    "  Dense(64, activation='relu'),\n",
    "  Dense(10, activation='softmax'),\n",
    "])"
   ]
  },
  {
   "cell_type": "code",
   "execution_count": 7,
   "metadata": {},
   "outputs": [],
   "source": [
    "model.compile(\n",
    "  optimizer='adam',\n",
    "  loss='categorical_crossentropy',\n",
    "  metrics=['accuracy'],\n",
    ")"
   ]
  },
  {
   "cell_type": "code",
   "execution_count": 8,
   "metadata": {},
   "outputs": [
    {
     "name": "stdout",
     "output_type": "stream",
     "text": [
      "Epoch 1/5\n",
      "1875/1875 [==============================] - 1s 612us/step - loss: 0.3614 - accuracy: 0.8900\n",
      "Epoch 2/5\n",
      "1875/1875 [==============================] - 1s 615us/step - loss: 0.1842 - accuracy: 0.9435\n",
      "Epoch 3/5\n",
      "1875/1875 [==============================] - 1s 636us/step - loss: 0.1422 - accuracy: 0.9557\n",
      "Epoch 4/5\n",
      "1875/1875 [==============================] - 1s 623us/step - loss: 0.1181 - accuracy: 0.9628\n",
      "Epoch 5/5\n",
      "1875/1875 [==============================] - 1s 607us/step - loss: 0.1038 - accuracy: 0.9671\n"
     ]
    },
    {
     "data": {
      "text/plain": [
       "<tensorflow.python.keras.callbacks.History at 0x1cba730c3d0>"
      ]
     },
     "execution_count": 8,
     "metadata": {},
     "output_type": "execute_result"
    }
   ],
   "source": [
    "model.fit(\n",
    "  train_images,\n",
    "  to_categorical(train_labels),\n",
    "  epochs=5,\n",
    "  batch_size=32,\n",
    ")"
   ]
  },
  {
   "cell_type": "code",
   "execution_count": 9,
   "metadata": {},
   "outputs": [
    {
     "name": "stdout",
     "output_type": "stream",
     "text": [
      "313/313 [==============================] - 0s 371us/step - loss: 0.1123 - accuracy: 0.9633\n"
     ]
    },
    {
     "data": {
      "text/plain": [
       "[0.11233797669410706, 0.9632999897003174]"
      ]
     },
     "execution_count": 9,
     "metadata": {},
     "output_type": "execute_result"
    }
   ],
   "source": [
    "model.evaluate(\n",
    "  test_images,\n",
    "  to_categorical(test_labels)\n",
    ")"
   ]
  },
  {
   "cell_type": "code",
   "execution_count": 10,
   "metadata": {},
   "outputs": [],
   "source": [
    "predictions = model.predict(test_images[:5])"
   ]
  },
  {
   "cell_type": "code",
   "execution_count": 11,
   "metadata": {},
   "outputs": [
    {
     "name": "stdout",
     "output_type": "stream",
     "text": [
      "[7 2 1 0 4]\n"
     ]
    }
   ],
   "source": [
    "print(np.argmax(predictions, axis=1))"
   ]
  },
  {
   "cell_type": "code",
   "execution_count": 12,
   "metadata": {},
   "outputs": [
    {
     "name": "stdout",
     "output_type": "stream",
     "text": [
      "[7 2 1 0 4]\n"
     ]
    }
   ],
   "source": [
    "print(test_labels[:5]) # [7, 2, 1, 0, 4]"
   ]
  },
  {
   "cell_type": "markdown",
   "metadata": {},
   "source": [
    "### Построение модели - увеличим кол-во нейронов на внутренеем слое"
   ]
  },
  {
   "cell_type": "code",
   "execution_count": 13,
   "metadata": {},
   "outputs": [],
   "source": [
    "model = Sequential([\n",
    "  Dense(64, activation='relu', input_shape=(784,)),\n",
    "  Dense(256, activation='relu'),\n",
    "  Dense(10, activation='softmax'),\n",
    "])"
   ]
  },
  {
   "cell_type": "code",
   "execution_count": 14,
   "metadata": {},
   "outputs": [],
   "source": [
    "model.compile(\n",
    "  optimizer='adam',\n",
    "  loss='categorical_crossentropy',\n",
    "  metrics=['accuracy'],\n",
    ")"
   ]
  },
  {
   "cell_type": "code",
   "execution_count": 15,
   "metadata": {},
   "outputs": [
    {
     "name": "stdout",
     "output_type": "stream",
     "text": [
      "Epoch 1/5\n",
      "1875/1875 [==============================] - 1s 693us/step - loss: 0.3221 - accuracy: 0.9027\n",
      "Epoch 2/5\n",
      "1875/1875 [==============================] - 1s 692us/step - loss: 0.1562 - accuracy: 0.9519\n",
      "Epoch 3/5\n",
      "1875/1875 [==============================] - 1s 694us/step - loss: 0.1212 - accuracy: 0.9625\n",
      "Epoch 4/5\n",
      "1875/1875 [==============================] - 1s 704us/step - loss: 0.1009 - accuracy: 0.9679\n",
      "Epoch 5/5\n",
      "1875/1875 [==============================] - 1s 701us/step - loss: 0.0881 - accuracy: 0.9717\n"
     ]
    },
    {
     "data": {
      "text/plain": [
       "<tensorflow.python.keras.callbacks.History at 0x1cba0b3a6a0>"
      ]
     },
     "execution_count": 15,
     "metadata": {},
     "output_type": "execute_result"
    }
   ],
   "source": [
    "model.fit(\n",
    "  train_images,\n",
    "  to_categorical(train_labels),\n",
    "  epochs=5,\n",
    "  batch_size=32,\n",
    ")"
   ]
  },
  {
   "cell_type": "markdown",
   "metadata": {},
   "source": [
    "*Увеличиение количества нейронов увеличило точности модели*"
   ]
  },
  {
   "cell_type": "code",
   "execution_count": 16,
   "metadata": {},
   "outputs": [
    {
     "name": "stdout",
     "output_type": "stream",
     "text": [
      "313/313 [==============================] - 0s 419us/step - loss: 0.1182 - accuracy: 0.9644\n"
     ]
    },
    {
     "data": {
      "text/plain": [
       "[0.11819637566804886, 0.9643999934196472]"
      ]
     },
     "execution_count": 16,
     "metadata": {},
     "output_type": "execute_result"
    }
   ],
   "source": [
    "model.evaluate(\n",
    "  test_images,\n",
    "  to_categorical(test_labels)\n",
    ")"
   ]
  },
  {
   "cell_type": "markdown",
   "metadata": {},
   "source": [
    "*На тестовой выборке прирост незначительный*"
   ]
  },
  {
   "cell_type": "code",
   "execution_count": 17,
   "metadata": {},
   "outputs": [],
   "source": [
    "predictions = model.predict(test_images[:5])"
   ]
  },
  {
   "cell_type": "code",
   "execution_count": 18,
   "metadata": {},
   "outputs": [
    {
     "name": "stdout",
     "output_type": "stream",
     "text": [
      "[7 2 1 0 4]\n"
     ]
    }
   ],
   "source": [
    "print(np.argmax(predictions, axis=1))"
   ]
  },
  {
   "cell_type": "code",
   "execution_count": 19,
   "metadata": {},
   "outputs": [
    {
     "name": "stdout",
     "output_type": "stream",
     "text": [
      "[7 2 1 0 4]\n"
     ]
    }
   ],
   "source": [
    "print(test_labels[:5]) # [7, 2, 1, 0, 4]"
   ]
  },
  {
   "cell_type": "markdown",
   "metadata": {},
   "source": [
    "### Построение модели - увеличим кол-во нейронов на внешнем слое"
   ]
  },
  {
   "cell_type": "code",
   "execution_count": 20,
   "metadata": {},
   "outputs": [],
   "source": [
    "model = Sequential([\n",
    "  Dense(128, activation='relu', input_shape=(784,)),\n",
    "  Dense(256, activation='relu'),\n",
    "  Dense(10, activation='softmax'),\n",
    "])"
   ]
  },
  {
   "cell_type": "code",
   "execution_count": 21,
   "metadata": {},
   "outputs": [],
   "source": [
    "model.compile(\n",
    "  optimizer='adam',\n",
    "  loss='categorical_crossentropy',\n",
    "  metrics=['accuracy'],\n",
    ")"
   ]
  },
  {
   "cell_type": "code",
   "execution_count": 22,
   "metadata": {},
   "outputs": [
    {
     "name": "stdout",
     "output_type": "stream",
     "text": [
      "Epoch 1/5\n",
      "1875/1875 [==============================] - 2s 800us/step - loss: 0.2973 - accuracy: 0.9078\n",
      "Epoch 2/5\n",
      "1875/1875 [==============================] - 2s 802us/step - loss: 0.1431 - accuracy: 0.9555\n",
      "Epoch 3/5\n",
      "1875/1875 [==============================] - 2s 802us/step - loss: 0.1087 - accuracy: 0.9655\n",
      "Epoch 4/5\n",
      "1875/1875 [==============================] - 2s 804us/step - loss: 0.0902 - accuracy: 0.9709\n",
      "Epoch 5/5\n",
      "1875/1875 [==============================] - 2s 806us/step - loss: 0.0779 - accuracy: 0.9747\n"
     ]
    },
    {
     "data": {
      "text/plain": [
       "<tensorflow.python.keras.callbacks.History at 0x1cba8baf520>"
      ]
     },
     "execution_count": 22,
     "metadata": {},
     "output_type": "execute_result"
    }
   ],
   "source": [
    "model.fit(\n",
    "  train_images,\n",
    "  to_categorical(train_labels),\n",
    "  epochs=5,\n",
    "  batch_size=32,\n",
    ")"
   ]
  },
  {
   "cell_type": "code",
   "execution_count": 23,
   "metadata": {},
   "outputs": [
    {
     "name": "stdout",
     "output_type": "stream",
     "text": [
      "313/313 [==============================] - 0s 412us/step - loss: 0.1026 - accuracy: 0.9700\n"
     ]
    },
    {
     "data": {
      "text/plain": [
       "[0.1026071310043335, 0.9700000286102295]"
      ]
     },
     "execution_count": 23,
     "metadata": {},
     "output_type": "execute_result"
    }
   ],
   "source": [
    "model.evaluate(\n",
    "  test_images,\n",
    "  to_categorical(test_labels)\n",
    ")"
   ]
  },
  {
   "cell_type": "markdown",
   "metadata": {},
   "source": [
    "*Фиксируем прирост точности с первых эпох обучения*"
   ]
  },
  {
   "cell_type": "code",
   "execution_count": 24,
   "metadata": {},
   "outputs": [
    {
     "name": "stdout",
     "output_type": "stream",
     "text": [
      "[7 2 1 0 4]\n",
      "[7 2 1 0 4]\n"
     ]
    }
   ],
   "source": [
    "predictions = model.predict(test_images[:5])\n",
    "print(np.argmax(predictions, axis=1))\n",
    "print(test_labels[:5]) # [7, 2, 1, 0, 4]"
   ]
  },
  {
   "cell_type": "markdown",
   "metadata": {},
   "source": [
    "### Построение модели - увеличим кол-во эпох"
   ]
  },
  {
   "cell_type": "code",
   "execution_count": 25,
   "metadata": {},
   "outputs": [],
   "source": [
    "model = Sequential([\n",
    "  Dense(128, activation='relu', input_shape=(784,)),\n",
    "  Dense(256, activation='relu'),\n",
    "  Dense(10, activation='softmax'),\n",
    "])"
   ]
  },
  {
   "cell_type": "code",
   "execution_count": 26,
   "metadata": {},
   "outputs": [],
   "source": [
    "model.compile(\n",
    "  optimizer='adam',\n",
    "  loss='categorical_crossentropy',\n",
    "  metrics=['accuracy'],\n",
    ")"
   ]
  },
  {
   "cell_type": "code",
   "execution_count": 27,
   "metadata": {},
   "outputs": [
    {
     "name": "stdout",
     "output_type": "stream",
     "text": [
      "Epoch 1/35\n",
      "1875/1875 [==============================] - 2s 820us/step - loss: 0.3014 - accuracy: 0.9078\n",
      "Epoch 2/35\n",
      "1875/1875 [==============================] - 2s 822us/step - loss: 0.1440 - accuracy: 0.9561\n",
      "Epoch 3/35\n",
      "1875/1875 [==============================] - 2s 819us/step - loss: 0.1097 - accuracy: 0.9653\n",
      "Epoch 4/35\n",
      "1875/1875 [==============================] - 2s 822us/step - loss: 0.0901 - accuracy: 0.9714\n",
      "Epoch 5/35\n",
      "1875/1875 [==============================] - 2s 851us/step - loss: 0.0766 - accuracy: 0.9754\n",
      "Epoch 6/35\n",
      "1875/1875 [==============================] - 2s 852us/step - loss: 0.0694 - accuracy: 0.9774\n",
      "Epoch 7/35\n",
      "1875/1875 [==============================] - 2s 839us/step - loss: 0.0606 - accuracy: 0.9804\n",
      "Epoch 8/35\n",
      "1875/1875 [==============================] - 1s 799us/step - loss: 0.0542 - accuracy: 0.9822\n",
      "Epoch 9/35\n",
      "1875/1875 [==============================] - 2s 802us/step - loss: 0.0487 - accuracy: 0.9836\n",
      "Epoch 10/35\n",
      "1875/1875 [==============================] - 1s 798us/step - loss: 0.0445 - accuracy: 0.9849\n",
      "Epoch 11/35\n",
      "1875/1875 [==============================] - 2s 808us/step - loss: 0.0416 - accuracy: 0.9862\n",
      "Epoch 12/35\n",
      "1875/1875 [==============================] - 2s 817us/step - loss: 0.0395 - accuracy: 0.9866\n",
      "Epoch 13/35\n",
      "1875/1875 [==============================] - 2s 805us/step - loss: 0.0357 - accuracy: 0.9879\n",
      "Epoch 14/35\n",
      "1875/1875 [==============================] - 2s 815us/step - loss: 0.0363 - accuracy: 0.9883\n",
      "Epoch 15/35\n",
      "1875/1875 [==============================] - 2s 829us/step - loss: 0.0285 - accuracy: 0.9903\n",
      "Epoch 16/35\n",
      "1875/1875 [==============================] - 2s 829us/step - loss: 0.0329 - accuracy: 0.9894\n",
      "Epoch 17/35\n",
      "1875/1875 [==============================] - 2s 804us/step - loss: 0.0297 - accuracy: 0.9903\n",
      "Epoch 18/35\n",
      "1875/1875 [==============================] - 2s 807us/step - loss: 0.0283 - accuracy: 0.9912\n",
      "Epoch 19/35\n",
      "1875/1875 [==============================] - 2s 817us/step - loss: 0.0264 - accuracy: 0.9911\n",
      "Epoch 20/35\n",
      "1875/1875 [==============================] - 2s 815us/step - loss: 0.0244 - accuracy: 0.9918\n",
      "Epoch 21/35\n",
      "1875/1875 [==============================] - 2s 824us/step - loss: 0.0265 - accuracy: 0.9912\n",
      "Epoch 22/35\n",
      "1875/1875 [==============================] - 2s 838us/step - loss: 0.0233 - accuracy: 0.9926\n",
      "Epoch 23/35\n",
      "1875/1875 [==============================] - 2s 827us/step - loss: 0.0249 - accuracy: 0.9924\n",
      "Epoch 24/35\n",
      "1875/1875 [==============================] - 2s 813us/step - loss: 0.0234 - accuracy: 0.9924\n",
      "Epoch 25/35\n",
      "1875/1875 [==============================] - 2s 815us/step - loss: 0.0226 - accuracy: 0.9934\n",
      "Epoch 26/35\n",
      "1875/1875 [==============================] - 2s 820us/step - loss: 0.0248 - accuracy: 0.9926\n",
      "Epoch 27/35\n",
      "1875/1875 [==============================] - 2s 819us/step - loss: 0.0203 - accuracy: 0.9936\n",
      "Epoch 28/35\n",
      "1875/1875 [==============================] - 2s 813us/step - loss: 0.0210 - accuracy: 0.9937\n",
      "Epoch 29/35\n",
      "1875/1875 [==============================] - 2s 818us/step - loss: 0.0225 - accuracy: 0.9936\n",
      "Epoch 30/35\n",
      "1875/1875 [==============================] - 2s 823us/step - loss: 0.0205 - accuracy: 0.9936\n",
      "Epoch 31/35\n",
      "1875/1875 [==============================] - 2s 819us/step - loss: 0.0213 - accuracy: 0.9936\n",
      "Epoch 32/35\n",
      "1875/1875 [==============================] - 2s 829us/step - loss: 0.0222 - accuracy: 0.9935\n",
      "Epoch 33/35\n",
      "1875/1875 [==============================] - 2s 830us/step - loss: 0.0202 - accuracy: 0.9940\n",
      "Epoch 34/35\n",
      "1875/1875 [==============================] - 2s 833us/step - loss: 0.0189 - accuracy: 0.9946\n",
      "Epoch 35/35\n",
      "1875/1875 [==============================] - 2s 829us/step - loss: 0.0186 - accuracy: 0.9948\n"
     ]
    },
    {
     "data": {
      "text/plain": [
       "<tensorflow.python.keras.callbacks.History at 0x1cba925c4c0>"
      ]
     },
     "execution_count": 27,
     "metadata": {},
     "output_type": "execute_result"
    }
   ],
   "source": [
    "model.fit(\n",
    "  train_images,\n",
    "  to_categorical(train_labels),\n",
    "  epochs=35,\n",
    "  batch_size=32,\n",
    ")"
   ]
  },
  {
   "cell_type": "code",
   "execution_count": 28,
   "metadata": {},
   "outputs": [
    {
     "name": "stdout",
     "output_type": "stream",
     "text": [
      "313/313 [==============================] - 0s 425us/step - loss: 0.1561 - accuracy: 0.9768\n"
     ]
    },
    {
     "data": {
      "text/plain": [
       "[0.1560676395893097, 0.9768000245094299]"
      ]
     },
     "execution_count": 28,
     "metadata": {},
     "output_type": "execute_result"
    }
   ],
   "source": [
    "model.evaluate(\n",
    "  test_images,\n",
    "  to_categorical(test_labels)\n",
    ")"
   ]
  },
  {
   "cell_type": "code",
   "execution_count": 29,
   "metadata": {},
   "outputs": [
    {
     "name": "stdout",
     "output_type": "stream",
     "text": [
      "[7 2 1 0 4]\n",
      "[7 2 1 0 4]\n"
     ]
    }
   ],
   "source": [
    "predictions = model.predict(test_images[:5])\n",
    "print(np.argmax(predictions, axis=1))\n",
    "print(test_labels[:5]) # [7, 2, 1, 0, 4]"
   ]
  },
  {
   "cell_type": "markdown",
   "metadata": {},
   "source": [
    "*Точность около 0.99 фиксировалась уже на 16 эпохе обучения*"
   ]
  },
  {
   "cell_type": "markdown",
   "metadata": {},
   "source": [
    "### Построение модели - изменим batch_size и посмотри насколько быстрее достигнем результата 0.99"
   ]
  },
  {
   "cell_type": "code",
   "execution_count": 52,
   "metadata": {},
   "outputs": [],
   "source": [
    "model = Sequential([\n",
    "  Dense(128, activation='relu', input_shape=(784,)),\n",
    "  Dense(256, activation='relu'),\n",
    "  Dense(10, activation='softmax'),\n",
    "])"
   ]
  },
  {
   "cell_type": "code",
   "execution_count": 53,
   "metadata": {},
   "outputs": [],
   "source": [
    "model.compile(\n",
    "  optimizer='adam',\n",
    "  loss='categorical_crossentropy',\n",
    "  metrics=['accuracy'],\n",
    ")"
   ]
  },
  {
   "cell_type": "code",
   "execution_count": 54,
   "metadata": {},
   "outputs": [
    {
     "name": "stdout",
     "output_type": "stream",
     "text": [
      "Epoch 1/35\n",
      "450/450 [==============================] - 1s 1ms/step - loss: 0.4072 - accuracy: 0.8797 - val_loss: 0.2553 - val_accuracy: 0.9210\n",
      "Epoch 2/35\n",
      "450/450 [==============================] - 1s 1ms/step - loss: 0.1889 - accuracy: 0.9437 - val_loss: 0.1538 - val_accuracy: 0.9536\n",
      "Epoch 3/35\n",
      "450/450 [==============================] - 1s 1ms/step - loss: 0.1331 - accuracy: 0.9596 - val_loss: 0.1368 - val_accuracy: 0.9604\n",
      "Epoch 4/35\n",
      "450/450 [==============================] - 1s 1ms/step - loss: 0.1044 - accuracy: 0.9679 - val_loss: 0.1264 - val_accuracy: 0.9603\n",
      "Epoch 5/35\n",
      "450/450 [==============================] - 1s 1ms/step - loss: 0.0909 - accuracy: 0.9717 - val_loss: 0.1140 - val_accuracy: 0.9669\n",
      "Epoch 6/35\n",
      "450/450 [==============================] - 1s 1ms/step - loss: 0.0759 - accuracy: 0.9758 - val_loss: 0.1066 - val_accuracy: 0.9685\n",
      "Epoch 7/35\n",
      "450/450 [==============================] - 1s 1ms/step - loss: 0.0672 - accuracy: 0.9782 - val_loss: 0.1001 - val_accuracy: 0.9707\n",
      "Epoch 8/35\n",
      "450/450 [==============================] - 1s 1ms/step - loss: 0.0570 - accuracy: 0.9822 - val_loss: 0.1038 - val_accuracy: 0.9695\n",
      "Epoch 9/35\n",
      "450/450 [==============================] - 1s 1ms/step - loss: 0.0515 - accuracy: 0.9835 - val_loss: 0.1166 - val_accuracy: 0.9662\n",
      "Epoch 10/35\n",
      "450/450 [==============================] - 1s 1ms/step - loss: 0.0470 - accuracy: 0.9843 - val_loss: 0.1293 - val_accuracy: 0.9643\n",
      "Epoch 11/35\n",
      "450/450 [==============================] - 1s 1ms/step - loss: 0.0420 - accuracy: 0.9864 - val_loss: 0.1099 - val_accuracy: 0.9705\n",
      "Epoch 12/35\n",
      "450/450 [==============================] - 1s 1ms/step - loss: 0.0403 - accuracy: 0.9868 - val_loss: 0.1077 - val_accuracy: 0.9712\n",
      "Epoch 13/35\n",
      "450/450 [==============================] - 1s 1ms/step - loss: 0.0335 - accuracy: 0.9890 - val_loss: 0.1052 - val_accuracy: 0.9731\n",
      "Epoch 14/35\n",
      "450/450 [==============================] - 1s 1ms/step - loss: 0.0305 - accuracy: 0.9895 - val_loss: 0.1058 - val_accuracy: 0.9737\n",
      "Epoch 15/35\n",
      "450/450 [==============================] - 1s 1ms/step - loss: 0.0280 - accuracy: 0.9905 - val_loss: 0.1125 - val_accuracy: 0.9726\n",
      "Epoch 16/35\n",
      "450/450 [==============================] - 1s 1ms/step - loss: 0.0280 - accuracy: 0.9903 - val_loss: 0.1018 - val_accuracy: 0.9739\n",
      "Epoch 17/35\n",
      "450/450 [==============================] - 1s 1ms/step - loss: 0.0223 - accuracy: 0.9927 - val_loss: 0.1042 - val_accuracy: 0.9745\n",
      "Epoch 18/35\n",
      "450/450 [==============================] - 1s 1ms/step - loss: 0.0229 - accuracy: 0.9919 - val_loss: 0.1093 - val_accuracy: 0.9729\n",
      "Epoch 19/35\n",
      "450/450 [==============================] - 1s 1ms/step - loss: 0.0207 - accuracy: 0.9931 - val_loss: 0.1206 - val_accuracy: 0.9716\n",
      "Epoch 20/35\n",
      "450/450 [==============================] - 1s 1ms/step - loss: 0.0281 - accuracy: 0.9906 - val_loss: 0.1332 - val_accuracy: 0.9692\n",
      "Epoch 21/35\n",
      "450/450 [==============================] - 1s 1ms/step - loss: 0.0156 - accuracy: 0.9949 - val_loss: 0.1316 - val_accuracy: 0.9717\n",
      "Epoch 22/35\n",
      "450/450 [==============================] - 1s 1ms/step - loss: 0.0180 - accuracy: 0.9937 - val_loss: 0.1437 - val_accuracy: 0.9681\n",
      "Epoch 23/35\n",
      "450/450 [==============================] - 1s 1ms/step - loss: 0.0190 - accuracy: 0.9934 - val_loss: 0.1244 - val_accuracy: 0.9725\n",
      "Epoch 24/35\n",
      "450/450 [==============================] - 1s 1ms/step - loss: 0.0182 - accuracy: 0.9931 - val_loss: 0.1119 - val_accuracy: 0.9757\n",
      "Epoch 25/35\n",
      "450/450 [==============================] - 1s 1ms/step - loss: 0.0124 - accuracy: 0.9957 - val_loss: 0.1236 - val_accuracy: 0.9735\n",
      "Epoch 26/35\n",
      "450/450 [==============================] - 1s 1ms/step - loss: 0.0174 - accuracy: 0.9940 - val_loss: 0.1314 - val_accuracy: 0.9733\n",
      "Epoch 27/35\n",
      "450/450 [==============================] - 1s 1ms/step - loss: 0.0171 - accuracy: 0.9942 - val_loss: 0.1568 - val_accuracy: 0.9683\n",
      "Epoch 28/35\n",
      "450/450 [==============================] - 1s 1ms/step - loss: 0.0145 - accuracy: 0.9953 - val_loss: 0.1250 - val_accuracy: 0.9741\n",
      "Epoch 29/35\n",
      "450/450 [==============================] - 1s 1ms/step - loss: 0.0082 - accuracy: 0.9972 - val_loss: 0.1671 - val_accuracy: 0.9690\n",
      "Epoch 30/35\n",
      "450/450 [==============================] - 1s 1ms/step - loss: 0.0195 - accuracy: 0.9932 - val_loss: 0.1400 - val_accuracy: 0.9735\n",
      "Epoch 31/35\n",
      "450/450 [==============================] - 1s 1ms/step - loss: 0.0139 - accuracy: 0.9952 - val_loss: 0.1300 - val_accuracy: 0.9749\n",
      "Epoch 32/35\n",
      "450/450 [==============================] - 1s 1ms/step - loss: 0.0084 - accuracy: 0.9972 - val_loss: 0.1346 - val_accuracy: 0.9745\n",
      "Epoch 33/35\n",
      "450/450 [==============================] - 1s 1ms/step - loss: 0.0133 - accuracy: 0.9955 - val_loss: 0.1400 - val_accuracy: 0.9754\n",
      "Epoch 34/35\n",
      "450/450 [==============================] - 1s 1ms/step - loss: 0.0116 - accuracy: 0.9962 - val_loss: 0.1751 - val_accuracy: 0.9697\n",
      "Epoch 35/35\n",
      "450/450 [==============================] - 1s 1ms/step - loss: 0.0159 - accuracy: 0.9944 - val_loss: 0.1864 - val_accuracy: 0.9669\n"
     ]
    }
   ],
   "source": [
    "history = model.fit(\n",
    "  train_images,\n",
    "  to_categorical(train_labels),\n",
    "  validation_split=0.25,\n",
    "  epochs=35,\n",
    "  batch_size=100,\n",
    "  verbose=0\n",
    ")"
   ]
  },
  {
   "cell_type": "code",
   "execution_count": 55,
   "metadata": {},
   "outputs": [
    {
     "name": "stdout",
     "output_type": "stream",
     "text": [
      "313/313 [==============================] - 0s 604us/step - loss: 0.1518 - accuracy: 0.9717\n"
     ]
    },
    {
     "data": {
      "text/plain": [
       "[0.15183505415916443, 0.9717000126838684]"
      ]
     },
     "execution_count": 55,
     "metadata": {},
     "output_type": "execute_result"
    }
   ],
   "source": [
    "model.evaluate(\n",
    "  test_images,\n",
    "  to_categorical(test_labels)\n",
    ")"
   ]
  },
  {
   "cell_type": "code",
   "execution_count": 73,
   "metadata": {},
   "outputs": [
    {
     "data": {
      "image/png": "[encoded data removed]",
      "text/plain": [
       "<Figure size 432x288 with 1 Axes>"
      ]
     },
     "metadata": {
      "needs_background": "light"
     },
     "output_type": "display_data"
    }
   ],
   "source": [
    "plt.plot(history.history['accuracy'])\n",
    "\n",
    "plt.plot(history.history['val_accuracy'])\n",
    "\n",
    "plt.title('Model accuracy')\n",
    "\n",
    "plt.ylabel('Accuracy')\n",
    "\n",
    "plt.xlabel('Epoch')\n",
    "\n",
    "plt.legend(['Train', 'Test'], loc='upper left')\n",
    "\n",
    "plt.axis((0, 35, 0.8 ,1.02))\n",
    "\n",
    "plt.show()"
   ]
  },
  {
   "cell_type": "markdown",
   "metadata": {},
   "source": [
    "### Построение модели - попробуем иные функции активации и потерь: sigmoid вместо relu"
   ]
  },
  {
   "cell_type": "code",
   "execution_count": 60,
   "metadata": {},
   "outputs": [],
   "source": [
    "model = Sequential([\n",
    "  Dense(128, activation='sigmoid', input_shape=(784,)),\n",
    "  Dense(256, activation='sigmoid'),\n",
    "  Dense(10, activation='softmax'),\n",
    "])"
   ]
  },
  {
   "cell_type": "code",
   "execution_count": 61,
   "metadata": {},
   "outputs": [],
   "source": [
    "model.compile(\n",
    "  optimizer='adam',\n",
    "  loss='categorical_crossentropy',\n",
    "  metrics=['accuracy'],\n",
    ")"
   ]
  },
  {
   "cell_type": "code",
   "execution_count": 62,
   "metadata": {},
   "outputs": [],
   "source": [
    "history = model.fit(\n",
    "  train_images,\n",
    "  to_categorical(train_labels),\n",
    "  validation_split=0.25,\n",
    "  epochs=35,\n",
    "  batch_size=100,\n",
    "  verbose=0  \n",
    ")"
   ]
  },
  {
   "cell_type": "code",
   "execution_count": 63,
   "metadata": {},
   "outputs": [
    {
     "name": "stdout",
     "output_type": "stream",
     "text": [
      "313/313 [==============================] - 0s 620us/step - loss: 0.0967 - accuracy: 0.9767\n"
     ]
    },
    {
     "data": {
      "text/plain": [
       "[0.0966586321592331, 0.9767000079154968]"
      ]
     },
     "execution_count": 63,
     "metadata": {},
     "output_type": "execute_result"
    }
   ],
   "source": [
    "model.evaluate(\n",
    "  test_images,\n",
    "  to_categorical(test_labels)\n",
    ")"
   ]
  },
  {
   "cell_type": "code",
   "execution_count": 72,
   "metadata": {},
   "outputs": [
    {
     "data": {
      "image/png": "[encoded data removed]",
      "text/plain": [
       "<Figure size 432x288 with 1 Axes>"
      ]
     },
     "metadata": {
      "needs_background": "light"
     },
     "output_type": "display_data"
    }
   ],
   "source": [
    "plt.plot(history.history['accuracy'])\n",
    "\n",
    "plt.plot(history.history['val_accuracy'])\n",
    "\n",
    "plt.title('Model accuracy')\n",
    "\n",
    "plt.ylabel('Accuracy')\n",
    "\n",
    "plt.xlabel('Epoch')\n",
    "\n",
    "plt.legend(['Train', 'Test'], loc='upper left')\n",
    "\n",
    "plt.axis((0, 35, 0.8 ,1.02))\n",
    "\n",
    "plt.show()"
   ]
  },
  {
   "cell_type": "markdown",
   "metadata": {},
   "source": [
    "### Построение модели - попробуем иные функции активации и потерь: sigmoid вместо relu"
   ]
  },
  {
   "cell_type": "code",
   "execution_count": 109,
   "metadata": {},
   "outputs": [],
   "source": [
    "model = Sequential([\n",
    "  Dense(128, activation='relu', input_shape=(784,)),\n",
    "  Dense(256, activation='relu'),\n",
    "  Dense(10, activation='softmax'),\n",
    "])"
   ]
  },
  {
   "cell_type": "code",
   "execution_count": 110,
   "metadata": {},
   "outputs": [],
   "source": [
    "model.compile(\n",
    "  optimizer='adam',\n",
    "  loss='binary_crossentropy',\n",
    "  metrics=['accuracy'],\n",
    ")"
   ]
  },
  {
   "cell_type": "code",
   "execution_count": 111,
   "metadata": {},
   "outputs": [],
   "source": [
    "history = model.fit(\n",
    "  train_images,\n",
    "  to_categorical(train_labels),\n",
    "  validation_split=0.25,\n",
    "  epochs=35,\n",
    "  batch_size=100,\n",
    "  verbose=0  \n",
    ")"
   ]
  },
  {
   "cell_type": "code",
   "execution_count": 112,
   "metadata": {},
   "outputs": [
    {
     "name": "stdout",
     "output_type": "stream",
     "text": [
      "313/313 [==============================] - 0s 623us/step - loss: 0.0178 - accuracy: 0.9778\n"
     ]
    },
    {
     "data": {
      "text/plain": [
       "[0.017788033932447433, 0.9778000116348267]"
      ]
     },
     "execution_count": 112,
     "metadata": {},
     "output_type": "execute_result"
    }
   ],
   "source": [
    "model.evaluate(\n",
    "  test_images,\n",
    "  to_categorical(test_labels)\n",
    ")"
   ]
  },
  {
   "cell_type": "code",
   "execution_count": 113,
   "metadata": {},
   "outputs": [
    {
     "data": {
      "image/png": "[encoded data removed]",
      "text/plain": [
       "<Figure size 432x288 with 1 Axes>"
      ]
     },
     "metadata": {
      "needs_background": "light"
     },
     "output_type": "display_data"
    }
   ],
   "source": [
    "plt.plot(history.history['accuracy'])\n",
    "\n",
    "plt.plot(history.history['val_accuracy'])\n",
    "\n",
    "plt.title('Model accuracy')\n",
    "\n",
    "plt.ylabel('Accuracy')\n",
    "\n",
    "plt.xlabel('Epoch')\n",
    "\n",
    "plt.legend(['Train', 'Test'], loc='upper left')\n",
    "\n",
    "plt.axis((0, 35, 0.8 ,1.02))\n",
    "\n",
    "plt.show()"
   ]
  },
  {
   "cell_type": "code",
   "execution_count": null,
   "metadata": {},
   "outputs": [],
   "source": []
  }
 ],
 "metadata": {
  "kernelspec": {
   "display_name": "Python 3",
   "language": "python",
   "name": "python3"
  },
  "language_info": {
   "codemirror_mode": {
    "name": "ipython",
    "version": 3
   },
   "file_extension": ".py",
   "mimetype": "text/x-python",
   "name": "python",
   "nbconvert_exporter": "python",
   "pygments_lexer": "ipython3",
   "version": "3.8.2"
  }
 },
 "nbformat": 4,
 "nbformat_minor": 4
}
